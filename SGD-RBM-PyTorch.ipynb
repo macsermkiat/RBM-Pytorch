{
 "cells": [
  {
   "cell_type": "code",
   "execution_count": 1,
   "metadata": {},
   "outputs": [],
   "source": [
    "import numpy as np\n",
    "import torch\n",
    "import torch.utils.data\n",
    "import torch.nn as nn\n",
    "import torch.nn.functional as F\n",
    "import torch.optim as optim\n",
    "from torch.autograd import Variable\n",
    "from torchvision import datasets, transforms\n",
    "from torchvision.utils import make_grid , save_image"
   ]
  },
  {
   "cell_type": "code",
   "execution_count": 2,
   "metadata": {},
   "outputs": [],
   "source": [
    "%matplotlib inline\n",
    "import matplotlib.pyplot as plt\n",
    "\n",
    "def show_adn_save(file_name,img):\n",
    "    npimg = np.transpose(img.numpy(),(1,2,0))\n",
    "    f = \"./%s.png\" % file_name\n",
    "    plt.imshow(npimg)\n",
    "    plt.imsave(f,npimg)"
   ]
  },
  {
   "cell_type": "code",
   "execution_count": 3,
   "metadata": {},
   "outputs": [],
   "source": [
    "batch_size = 64\n",
    "train_loader = torch.utils.data.DataLoader(\n",
    "    datasets.MNIST('mnist', train=True, download=True,\n",
    "                   transform=transforms.Compose([\n",
    "                       transforms.ToTensor()\n",
    "                   ])),\n",
    "    batch_size=batch_size)"
   ]
  },
  {
   "cell_type": "code",
   "execution_count": 12,
   "metadata": {},
   "outputs": [],
   "source": [
    "# Creating the architecture of the Neural Network\n",
    "class RBM(nn.Module):\n",
    "    def __init__(self, nv=784 , nh=500, k=5):\n",
    "        #Initialize Weight and bias for visible nodes and hidden nodes\n",
    "        super(RBM, self).__init__()\n",
    "        self.W = nn.Parameter(torch.randn(nh,nv)*1e-2)\n",
    "        self.b = nn.Parameter(torch.zeros(nv))\n",
    "        self.a = nn.Parameter(torch.zeros(nh))\n",
    "        self.k = k\n",
    "\n",
    "    def sample_h(self, x):\n",
    "        #Gibb's sampling of hidden nodes from visible nodes (MCMC)\n",
    "        activation = F.linear(x,self.W,self.a)\n",
    "        p_h_given_v = F.sigmoid(activation)    \n",
    "        return p_h_given_v, torch.bernoulli(p_h_given_v)\n",
    "\n",
    "    \n",
    "    def sample_from_p(self,p):\n",
    "        return F.relu(torch.sign(p - Variable(torch.rand(p.size()))))\n",
    "    \n",
    "    def sample_v(self, y):\n",
    "        #Gibb's sampling of visible nodes from hidden nodes (MCMC)\n",
    "        activation = F.linear(y,self.W.t(),self.b)\n",
    "        p_v_given_h = F.sigmoid(activation)\n",
    "        return p_v_given_h, torch.bernoulli(p_v_given_h)\n",
    "\n",
    "    def free_energy(self,v):\n",
    "        #EF(v)=−bTv−∑jlog(1+exp(a+WTv))j\n",
    "        vbias_term = v.mv(self.b)\n",
    "        wx_b = F.linear(v,self.W,self.a)\n",
    "        hidden_term = wx_b.exp().add(1).log().sum(1)\n",
    "        return (-hidden_term - vbias_term).mean()\n",
    "    \n",
    "    def forward(self,v):\n",
    "        #Train and update weight and bias by k-steps Contrastive Divergence, as describe in originsl Hinton's paper : http://www.cs.toronto.edu/~fritz/absps/tr00-004.pdf\n",
    "        #https://lions.epfl.ch/files/content/sites/lions2/files/Documents/Reading%20Group%20Notes/papers/AItRBM-proof-3.pdf\n",
    "        pre_h1,h1 = self.sample_h(v)\n",
    "        \n",
    "        h_ = h1\n",
    "        for _ in range(self.k):\n",
    "            pre_v_,v_ = self.sample_v(h_)\n",
    "            pre_h_,h_ = self.sample_h(v_)\n",
    "        \n",
    "        return v,v_\n",
    "    \n",
    "\n"
   ]
  },
  {
   "cell_type": "code",
   "execution_count": 13,
   "metadata": {},
   "outputs": [],
   "source": [
    "rbm = RBM(k=1)"
   ]
  },
  {
   "cell_type": "code",
   "execution_count": 14,
   "metadata": {},
   "outputs": [],
   "source": [
    "model = optim.SGD(rbm.parameters(),lr=0.1)"
   ]
  },
  {
   "cell_type": "code",
   "execution_count": 15,
   "metadata": {},
   "outputs": [
    {
     "name": "stdout",
     "output_type": "stream",
     "text": [
      "-8.41328386254\n",
      "-6.61848505016\n",
      "-4.58305550842\n",
      "-3.16536525572\n",
      "-2.18900791973\n",
      "-1.54741966394\n",
      "-1.06479799315\n",
      "-0.721768214504\n",
      "-0.542670276373\n",
      "-0.281826125025\n"
     ]
    }
   ],
   "source": [
    "# Training the RBM\n",
    "for epoch in range(10):\n",
    "    loss_ = []\n",
    "    for _, (data,target) in enumerate(train_loader):\n",
    "        data = Variable(data.view(-1,784))\n",
    "        \n",
    "        sample_data = data.bernoulli()\n",
    "        v,vk = rbm(sample_data)\n",
    "        loss = rbm.free_energy(v) - rbm.free_energy(vk)\n",
    "        loss_.append(loss.data[0])\n",
    "        model.zero_grad()\n",
    "        loss.backward()\n",
    "        model.step()\n",
    "    \n",
    "    print (np.mean(loss_))"
   ]
  },
  {
   "cell_type": "code",
   "execution_count": 16,
   "metadata": {},
   "outputs": [
    {
     "data": {
      "image/png": "[encoded data removed]",
      "text/plain": [
       "<matplotlib.figure.Figure at 0x120d05390>"
      ]
     },
     "metadata": {},
     "output_type": "display_data"
    }
   ],
   "source": [
    "show_adn_save(\"real\",make_grid(v.view(32,1,28,28).data))"
   ]
  },
  {
   "cell_type": "code",
   "execution_count": 18,
   "metadata": {},
   "outputs": [
    {
     "data": {
      "image/png": "[encoded data removed]",
      "text/plain": [
       "<matplotlib.figure.Figure at 0x121f42a20>"
      ]
     },
     "metadata": {},
     "output_type": "display_data"
    }
   ],
   "source": [
    "show_adn_save(\"gen\",make_grid(vk.view(32,1,28,28).data))"
   ]
  },
  {
   "cell_type": "code",
   "execution_count": null,
   "metadata": {},
   "outputs": [],
   "source": []
  }
 ],
 "metadata": {
  "kernelspec": {
   "display_name": "Python 3",
   "language": "python",
   "name": "python3"
  },
  "language_info": {
   "codemirror_mode": {
    "name": "ipython",
    "version": 3
   },
   "file_extension": ".py",
   "mimetype": "text/x-python",
   "name": "python",
   "nbconvert_exporter": "python",
   "pygments_lexer": "ipython3",
   "version": "3.6.4"
  }
 },
 "nbformat": 4,
 "nbformat_minor": 2
}
